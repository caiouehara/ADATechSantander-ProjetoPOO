{
 "cells": [
  {
   "cell_type": "code",
   "execution_count": 19,
   "id": "99f7acbf-3ed2-4e33-97ab-53a708aef072",
   "metadata": {
    "tags": []
   },
   "outputs": [],
   "source": [
    "class Clientes:\n",
    "    def __init__(self, cpf,nome, data_nasc):\n",
    "        self.cpf = cpf\n",
    "        self.nome = nome\n",
    "        self.data_nasc = data_nasc\n",
    "        \n",
    "class MedicamentosQuimioterápicos:\n",
    "    def __init__(self,nome,principal_composto,laboratorio,descrição,necessidade_receita):\n",
    "        self.nome = nome\n",
    "        self.principal_composto = principal_composto\n",
    "        self.laboratorio = laboratorio \n",
    "    \n",
    "class MedicamentosFitoterápicos:\n",
    "    def __init__(self,nome,principal_composto,laboratorio,descricao):\n",
    "        self.nome = nome\n",
    "        self.principal_composto = principal_composto\n",
    "        self.laboratorio = laboratorio\n",
    "        self.descricao = descricao\n",
    "    \n",
    "    \n",
    "\n",
    "class Laboratório:\n",
    "    def __init__(self,nome ,endereço ,telefone ,cidade ,estado):\n",
    "        self.nome = nome\n",
    "        self.endereço = endereço\n",
    "        self.telefone = telefone\n",
    "        self.cidade = cidade\n",
    "        self.estado = estado\n",
    "\n"
   ]
  },
  {
   "cell_type": "code",
   "execution_count": 17,
   "id": "e75f63d9-19f3-417e-be31-5faa24ac3ce3",
   "metadata": {},
   "outputs": [
    {
     "data": {
      "text/plain": [
       "<__main__.Clientes at 0x22a316b88d0>"
      ]
     },
     "execution_count": 17,
     "metadata": {},
     "output_type": "execute_result"
    }
   ],
   "source": [
    "cliente1"
   ]
  },
  {
   "cell_type": "code",
   "execution_count": null,
   "id": "6555202a-2e1c-4b3c-ae60-a088d9ee89ea",
   "metadata": {},
   "outputs": [],
   "source": []
  }
 ],
 "metadata": {
  "kernelspec": {
   "display_name": "Python 3 (ipykernel)",
   "language": "python",
   "name": "python3"
  },
  "language_info": {
   "codemirror_mode": {
    "name": "ipython",
    "version": 3
   },
   "file_extension": ".py",
   "mimetype": "text/x-python",
   "name": "python",
   "nbconvert_exporter": "python",
   "pygments_lexer": "ipython3",
   "version": "3.11.4"
  }
 },
 "nbformat": 4,
 "nbformat_minor": 5
}
