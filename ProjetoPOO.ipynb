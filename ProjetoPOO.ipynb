{
 "cells": [
  {
   "cell_type": "code",
   "execution_count": 33,
   "id": "99f7acbf-3ed2-4e33-97ab-53a708aef072",
   "metadata": {
    "tags": []
   },
   "outputs": [
    {
     "name": "stdout",
     "output_type": "stream",
     "text": [
      "Cliente Caio cadastrado\n",
      "Cliente Fernando cadastrado\n",
      "Cliente 99513512345 encontrado\n"
     ]
    },
    {
     "data": {
      "text/plain": [
       "<__main__.Cliente at 0x2560a1f9e90>"
      ]
     },
     "execution_count": 33,
     "metadata": {},
     "output_type": "execute_result"
    }
   ],
   "source": [
    "class Cliente:\n",
    "    def __init__(self, cpf,nome, data_nasc):\n",
    "        self.__cpf = cpf\n",
    "        self.__nome = nome\n",
    "        self.__data_nasc = data_nasc\n",
    "        \n",
    "    def getCpf(self):\n",
    "        return self.__cpf;\n",
    "        \n",
    "class MedicamentosQuimioterápicos:\n",
    "    def __init__(self,nome,principal_composto,laboratorio,descrição,necessidade_receita):\n",
    "        self.nome = nome\n",
    "        self.principal_composto = principal_composto\n",
    "        self.laboratorio = laboratorio \n",
    "    \n",
    "class MedicamentosFitoterápicos:\n",
    "    def __init__(self,nome,principal_composto,laboratorio,descricao):\n",
    "        self.nome = nome\n",
    "        self.principal_composto = principal_composto\n",
    "        self.laboratorio = laboratorio\n",
    "        self.descricao = descricao\n",
    "    \n",
    "    \n",
    "\n",
    "class Laboratório:\n",
    "    def __init__(self,nome ,endereço ,telefone ,cidade ,estado):\n",
    "        self.nome = nome\n",
    "        self.endereço = endereço\n",
    "        self.telefone = telefone\n",
    "        self.cidade = cidade\n",
    "        self.estado = estado\n",
    "\n",
    "def cadastrarCliente(cpf, nome, data_nasc):\n",
    "    novoCliente = Cliente(cpf, nome, data_nasc)\n",
    "    clientes.append(novoCliente)\n",
    "    print(f'Cliente {nome} cadastrado')\n",
    "    \n",
    "def mostrarClientes():\n",
    "    for cliente in clientes:\n",
    "        print(cliente)\n",
    "\n",
    "def buscarCliente(cpf):\n",
    "    for cliente in clientes:\n",
    "        if(cliente.getCpf() == cpf):\n",
    "            print(f'Cliente {cpf} encontrado')\n",
    "            return cliente\n",
    "        \n",
    "clientes = []\n",
    "medicamentos = []\n",
    "laboratorios = []\n",
    "\n",
    "clientes\n",
    "cadastrarCliente('99513512345', 'Caio', '11/09/2003')\n",
    "cadastrarCliente('99513512345', 'Fernando', '11/09/2003')\n",
    "\n",
    "buscarCliente('99513512345')"
   ]
  },
  {
   "cell_type": "code",
   "execution_count": null,
   "id": "cf003c3f-6adb-4b57-8858-0562a5c9be31",
   "metadata": {},
   "outputs": [],
   "source": []
  }
 ],
 "metadata": {
  "kernelspec": {
   "display_name": "Python 3 (ipykernel)",
   "language": "python",
   "name": "python3"
  },
  "language_info": {
   "codemirror_mode": {
    "name": "ipython",
    "version": 3
   },
   "file_extension": ".py",
   "mimetype": "text/x-python",
   "name": "python",
   "nbconvert_exporter": "python",
   "pygments_lexer": "ipython3",
   "version": "3.11.4"
  }
 },
 "nbformat": 4,
 "nbformat_minor": 5
}
