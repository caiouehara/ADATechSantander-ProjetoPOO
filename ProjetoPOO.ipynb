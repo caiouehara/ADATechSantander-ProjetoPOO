{
 "cells": [
  {
   "cell_type": "code",
   "execution_count": 54,
   "id": "99f7acbf-3ed2-4e33-97ab-53a708aef072",
   "metadata": {
    "tags": []
   },
   "outputs": [
    {
     "name": "stdout",
     "output_type": "stream",
     "text": [
      "Cliente 44631113132 cadastrado\n",
      "Cliente 44631113132 NÃO encontrado\n"
     ]
    }
   ],
   "source": [
    "class Cliente:\n",
    "    __clientes = []\n",
    "    \n",
    "    def __init__(self, cpf,nome, data_nasc):\n",
    "        self.__cpf = cpf\n",
    "        self.__nome = nome\n",
    "        self.__data_nasc = data_nasc\n",
    "\n",
    "    def getCpf(self):\n",
    "        return self.__cpf;\n",
    "    \n",
    "    @classmethod\n",
    "    def cadastrarCliente(cls, cpf, nome, data_nasc):\n",
    "        novoCliente = Cliente(cpf, nome, data_nasc)\n",
    "        cls.__clientes.append(novoCliente)\n",
    "        print(f'Cliente {nome} cadastrado')\n",
    "        \n",
    "    @classmethod\n",
    "    def mostrarClientes(cls):\n",
    "        for cliente in cls.__clientes:\n",
    "            print(cliente)\n",
    "\n",
    "    @classmethod\n",
    "    def buscarCliente(cls, cpf):\n",
    "        for cliente in cls.__clientes:\n",
    "            if(cliente.getCpf() == cpf):\n",
    "                print(f'Cliente {cpf} encontrado')\n",
    "                return cliente\n",
    "        print(f'Cliente {cpf} NÃO encontrado')\n",
    "        \n",
    "        \n",
    "class MedicamentosQuimioterápicos:\n",
    "    def __init__(self,nome,principal_composto,laboratorio,descrição,necessidade_receita):\n",
    "        self.nome = nome\n",
    "        self.principal_composto = principal_composto\n",
    "        self.laboratorio = laboratorio \n",
    "    \n",
    "class MedicamentosFitoterápicos:\n",
    "    def __init__(self,nome,principal_composto,laboratorio,descricao):\n",
    "        self.nome = nome\n",
    "        self.principal_composto = principal_composto\n",
    "        self.laboratorio = laboratorio\n",
    "        self.descricao = descricao\n",
    "    \n",
    "class Laboratório:\n",
    "    def __init__(self,nome ,endereço ,telefone ,cidade ,estado):\n",
    "        self.nome = nome\n",
    "        self.endereço = endereço\n",
    "        self.telefone = telefone\n",
    "        self.cidade = cidade\n",
    "        self.estado = estado\n",
    "\n",
    "Cliente.cadastrarCliente('Caio', '44631113132', '12/09/1002')\n",
    "Cliente.buscarCliente('44631113132')"
   ]
  },
  {
   "cell_type": "code",
   "execution_count": null,
   "id": "1b94ce7a-0ab4-4f2a-b799-7ee76434898c",
   "metadata": {},
   "outputs": [],
   "source": []
  }
 ],
 "metadata": {
  "kernelspec": {
   "display_name": "Python 3 (ipykernel)",
   "language": "python",
   "name": "python3"
  },
  "language_info": {
   "codemirror_mode": {
    "name": "ipython",
    "version": 3
   },
   "file_extension": ".py",
   "mimetype": "text/x-python",
   "name": "python",
   "nbconvert_exporter": "python",
   "pygments_lexer": "ipython3",
   "version": "3.11.4"
  }
 },
 "nbformat": 4,
 "nbformat_minor": 5
}
